{
 "cells": [
  {
   "cell_type": "markdown",
   "id": "5cba6918-979b-40d5-be1b-c8be43f1c8b7",
   "metadata": {},
   "source": [
    "##### 1. Create a data frame with details of 10 students and columns as Roll Number, Name, Gender, Marks1, Marks2, Marks3.\n"
   ]
  },
  {
   "cell_type": "code",
   "execution_count": null,
   "id": "03c49d20-29fd-4ff3-9175-62848ab40eab",
   "metadata": {},
   "outputs": [],
   "source": [
    "import pandas as pd\n",
    "\n",
    "roll_numbers = [1, 2, 3, 4, 5, 6, 7, 8, 9, 10]\n",
    "names = [\"Priya\", \"Rohan\", \"Akash\", \"Kiara\", \"Aditya\", \"Ananya\", \"Yash\", \"Riya\", \"Siya\", \"Arjun\"]\n",
    "genders = [\"F\", \"M\", \"M\", \"F\", \"M\", \"F\", \"M\", \"F\", \"F\", \"M\"]\n",
    "marks1 = [70, 85, 90, 60, 88, 99, 75, 82, 78, 92]\n",
    "marks2 = [82, 70, 81, 55, 72, 87, 68, 77, 84, 80]\n",
    "marks3 = [65, 78, 83, 73, 75, 90, 71, 69, 82, 81]\n",
    "\n",
    "data = {\n",
    "    \"Roll Number\": roll_numbers,\n",
    "    \"Name\": names,\n",
    "    \"Gender\": genders,\n",
    "    \"Math\": marks1,\n",
    "    \"Science\": marks2,\n",
    "    \"English\": marks3\n",
    "}\n",
    "\n",
    "df = pd.DataFrame(data)\n",
    "\n",
    "print(df)\n"
   ]
  },
  {
   "cell_type": "markdown",
   "id": "f1e63571-4545-4092-8e80-9165c17cbccd",
   "metadata": {},
   "source": [
    "##### 2. Create a new column with total marks\r\n"
   ]
  },
  {
   "cell_type": "code",
   "execution_count": 7,
   "id": "e8baf885-9466-49e5-96ed-f2455121f90f",
   "metadata": {},
   "outputs": [
    {
     "name": "stdout",
     "output_type": "stream",
     "text": [
      "   Roll Number    Name Gender  Marks1  Marks2  Marks3  Total Marks\n",
      "0            1   Priya      F      70      82      65          217\n",
      "1            2   Rohan      M      85      70      78          233\n",
      "2            3   Akash      M      90      81      83          254\n",
      "3            4   Kiara      F      60      55      73          188\n",
      "4            5  Aditya      M      88      72      75          235\n",
      "5            6  Ananya      F      99      87      90          276\n",
      "6            7    Yash      M      75      68      71          214\n",
      "7            8    Riya      F      82      77      69          228\n",
      "8            9    Siya      F      78      84      82          244\n",
      "9           10   Arjun      M      92      80      81          253\n"
     ]
    }
   ],
   "source": [
    "roll_number = [1, 2, 3, 4, 5, 6, 7, 8, 9, 10]\n",
    "name = [\"Priya\", \"Rohan\", \"Akash\", \"Kiara\", \"Aditya\", \"Ananya\", \"Yash\", \"Riya\", \"Siya\", \"Arjun\"]\n",
    "gender = [\"F\", \"M\", \"M\", \"F\", \"M\", \"F\", \"M\", \"F\", \"F\", \"M\"]\n",
    "marks1 = [70, 85, 90, 60, 88, 99, 75, 82, 78, 92]\n",
    "marks2 = [82, 70, 81, 55, 72, 87, 68, 77, 84, 80]\n",
    "marks3 = [65, 78, 83, 73, 75, 90, 71, 69, 82, 81]\n",
    "\n",
    "data = {\n",
    "    \"Roll Number\": roll_number,\n",
    "    \"Name\": name,\n",
    "    \"Gender\": gender,\n",
    "    \"Marks1\": marks1,\n",
    "    \"Marks2\": marks2,\n",
    "    \"Marks3\": marks3\n",
    "}\n",
    "\n",
    "df = pd.DataFrame(data)\n",
    "\n",
    "df['Total Marks'] = df[['Marks1', 'Marks2', 'Marks3']].sum(axis=1)\n",
    "\n",
    "print(df)"
   ]
  },
  {
   "cell_type": "markdown",
   "id": "be7e5873-5f50-427a-b56d-0d0e35026d72",
   "metadata": {},
   "source": [
    "##### 3. Find the lowest marks in Marks1\r\n"
   ]
  },
  {
   "cell_type": "code",
   "execution_count": 8,
   "id": "6cff1588-db0d-44c3-95ba-a7b2d9a4d123",
   "metadata": {},
   "outputs": [
    {
     "name": "stdout",
     "output_type": "stream",
     "text": [
      "Student with the lowest marks in Marks1:\n",
      "Name: Kiara\n",
      "Marks1: 60\n"
     ]
    }
   ],
   "source": [
    "roll_number = [1, 2, 3, 4, 5, 6, 7, 8, 9, 10]\n",
    "name = [\"Priya\", \"Rohan\", \"Akash\", \"Kiara\", \"Aditya\", \"Ananya\", \"Yash\", \"Riya\", \"Siya\", \"Arjun\"]\n",
    "gender = [\"F\", \"M\", \"M\", \"F\", \"M\", \"F\", \"M\", \"F\", \"F\", \"M\"]\n",
    "marks1 = [70, 85, 90, 60, 88, 99, 75, 82, 78, 92]\n",
    "marks2 = [82, 70, 81, 55, 72, 87, 68, 77, 84, 80]\n",
    "marks3 = [65, 78, 83, 73, 75, 90, 71, 69, 82, 81]\n",
    "\n",
    "data = {\n",
    "    \"Roll Number\": roll_number,\n",
    "    \"Name\": name,\n",
    "    \"Gender\": gender,\n",
    "    \"Marks1\": marks1,\n",
    "    \"Marks2\": marks2,\n",
    "    \"Marks3\": marks3\n",
    "}\n",
    "\n",
    "df = pd.DataFrame(data)\n",
    "\n",
    "lowest_marks1_index = df['Marks1'].idxmin()\n",
    "\n",
    "lowest_marks1_student = df.loc[lowest_marks1_index]\n",
    "\n",
    "print(f\"Student with the lowest marks in Marks1:\")\n",
    "print(f\"Name: {lowest_marks1_student['Name']}\")\n",
    "print(f\"Marks1: {lowest_marks1_student['Marks1']}\")"
   ]
  },
  {
   "cell_type": "markdown",
   "id": "2aea01db-7fc7-4958-b974-72b8980e588d",
   "metadata": {},
   "source": [
    "##### 4. Find the Highest marks in Marks2\r\n"
   ]
  },
  {
   "cell_type": "code",
   "execution_count": 9,
   "id": "347dcd35-84e0-4cc7-b9e9-4f2467648ba1",
   "metadata": {},
   "outputs": [
    {
     "name": "stdout",
     "output_type": "stream",
     "text": [
      "Student with the highest marks in Marks2:\n",
      "   Roll Number    Name Gender  Marks1  Marks2  Marks3\n",
      "5            6  Ananya      F      99      87      90\n"
     ]
    }
   ],
   "source": [
    "roll_number = [1, 2, 3, 4, 5, 6, 7, 8, 9, 10]\n",
    "name = [\"Priya\", \"Rohan\", \"Akash\", \"Kiara\", \"Aditya\", \"Ananya\", \"Yash\", \"Riya\", \"Siya\", \"Arjun\"]\n",
    "gender = [\"F\", \"M\", \"M\", \"F\", \"M\", \"F\", \"M\", \"F\", \"F\", \"M\"]\n",
    "marks1 = [70, 85, 90, 60, 88, 99, 75, 82, 78, 92]\n",
    "marks2 = [82, 70, 81, 55, 72, 87, 68, 77, 84, 80]\n",
    "marks3 = [65, 78, 83, 73, 75, 90, 71, 69, 82, 81]\n",
    "\n",
    "\n",
    "data = {\n",
    "    \"Roll Number\": roll_number,\n",
    "    \"Name\": name,\n",
    "    \"Gender\": gender,\n",
    "    \"Marks1\": marks1,\n",
    "    \"Marks2\": marks2,\n",
    "    \"Marks3\": marks3\n",
    "}\n",
    "\n",
    "df = pd.DataFrame(data)\n",
    "\n",
    "highest_marks2_student = df[df['Marks2'] == df['Marks2'].max()]\n",
    "\n",
    "print(\"Student with the highest marks in Marks2:\")\n",
    "print(highest_marks2_student)"
   ]
  },
  {
   "cell_type": "markdown",
   "id": "fbe4fae1-6b8a-4e53-89bb-54cb5cfa6283",
   "metadata": {},
   "source": [
    "##### 5. Find the average marks in Marks3\r\n"
   ]
  },
  {
   "cell_type": "code",
   "execution_count": 11,
   "id": "816bc0d1-89c1-4d66-9ca2-cc30b691578f",
   "metadata": {},
   "outputs": [
    {
     "name": "stdout",
     "output_type": "stream",
     "text": [
      "Average marks in Marks3: 76.7\n"
     ]
    }
   ],
   "source": [
    "roll_number = [1, 2, 3, 4, 5, 6, 7, 8, 9, 10]\n",
    "name = [\"Priya\", \"Rohan\", \"Akash\", \"Kiara\", \"Aditya\", \"Ananya\", \"Yash\", \"Riya\", \"Siya\", \"Arjun\"]\n",
    "gender = [\"F\", \"M\", \"M\", \"F\", \"M\", \"F\", \"M\", \"F\", \"F\", \"M\"]\n",
    "marks1 = [70, 85, 90, 60, 88, 99, 75, 82, 78, 92]\n",
    "marks2 = [82, 70, 81, 55, 72, 87, 68, 77, 84, 80]\n",
    "marks3 = [65, 78, 83, 73, 75, 90, 71, 69, 82, 81]\n",
    "\n",
    "data = {\n",
    "    \"Roll Number\": roll_number,\n",
    "    \"Name\": name,\n",
    "    \"Gender\": gender,\n",
    "    \"Marks1\": marks1,\n",
    "    \"Marks2\": marks2,\n",
    "    \"Marks3\": marks3\n",
    "}\n",
    "\n",
    "df = pd.DataFrame(data)\n",
    "\n",
    "average_marks3 = df['Marks3'].mean()\n",
    "\n",
    "print(\"Average marks in Marks3:\", average_marks3)"
   ]
  },
  {
   "cell_type": "markdown",
   "id": "eed11d1f-4ef1-425d-b00b-e795dfce599d",
   "metadata": {},
   "source": [
    "##### 6. Find student name with highest average\r\n"
   ]
  },
  {
   "cell_type": "code",
   "execution_count": 12,
   "id": "ab977822-c597-43be-a82a-98fcbb54092e",
   "metadata": {},
   "outputs": [
    {
     "name": "stdout",
     "output_type": "stream",
     "text": [
      "Student name with highest average: Ananya\n"
     ]
    }
   ],
   "source": [
    "roll_number = [1, 2, 3, 4, 5, 6, 7, 8, 9, 10]\n",
    "name = [\"Priya\", \"Rohan\", \"Akash\", \"Kiara\", \"Aditya\", \"Ananya\", \"Yash\", \"Riya\", \"Siya\", \"Arjun\"]\n",
    "gender = [\"F\", \"M\", \"M\", \"F\", \"M\", \"F\", \"M\", \"F\", \"F\", \"M\"]\n",
    "marks1 = [70, 85, 90, 60, 88, 99, 75, 82, 78, 92]\n",
    "marks2 = [82, 70, 81, 55, 72, 87, 68, 77, 84, 80]\n",
    "marks3 = [65, 78, 83, 73, 75, 90, 71, 69, 82, 81]\n",
    "\n",
    "\n",
    "data = {\n",
    "    \"Roll Number\": roll_number,\n",
    "    \"Name\": name,\n",
    "    \"Gender\": gender,\n",
    "    \"Marks1\": marks1,\n",
    "    \"Marks2\": marks2,\n",
    "    \"Marks3\": marks3\n",
    "}\n",
    "\n",
    "df = pd.DataFrame(data)\n",
    "\n",
    "df['Total Marks'] = df[['Marks1', 'Marks2', 'Marks3']].sum(axis=1)\n",
    "\n",
    "highest_average_student = df[df['Total Marks'] == df['Total Marks'].max()]['Name'].values[0]\n",
    "\n",
    "print(\"Student name with highest average:\", highest_average_student)"
   ]
  },
  {
   "cell_type": "markdown",
   "id": "bb4f432a-d857-4e43-85bc-be625d137ad4",
   "metadata": {},
   "source": [
    "##### 7. Find how many students failed in Marks2 (<40)"
   ]
  },
  {
   "cell_type": "code",
   "execution_count": 13,
   "id": "b0877f90-a9dc-4bc7-84a5-659360747b29",
   "metadata": {},
   "outputs": [
    {
     "name": "stdout",
     "output_type": "stream",
     "text": [
      "Number of students failed in Marks2: 0\n"
     ]
    }
   ],
   "source": [
    "roll_number = [1, 2, 3, 4, 5, 6, 7, 8, 9, 10]\n",
    "name = [\"Priya\", \"Rohan\", \"Akash\", \"Kiara\", \"Aditya\", \"Ananya\", \"Yash\", \"Riya\", \"Siya\", \"Arjun\"]\n",
    "gender = [\"F\", \"M\", \"M\", \"F\", \"M\", \"F\", \"M\", \"F\", \"F\", \"M\"]\n",
    "marks1 = [70, 85, 90, 60, 88, 99, 75, 82, 78, 92]\n",
    "marks2 = [82, 70, 81, 55, 72, 87, 68, 77, 84, 80]\n",
    "marks3 = [65, 78, 83, 73, 75, 90, 71, 69, 82, 81]\n",
    "\n",
    "data = {\n",
    "    \"Roll Number\": roll_number,\n",
    "    \"Name\": name,\n",
    "    \"Gender\": gender,\n",
    "    \"Marks1\": marks1,\n",
    "    \"Marks2\": marks2,\n",
    "    \"Marks3\": marks3\n",
    "}\n",
    "\n",
    "df = pd.DataFrame(data)\n",
    "\n",
    "failed_in_marks2 = df[df['Marks2'] < 40].shape[0]\n",
    "\n",
    "print(\"Number of students failed in Marks2:\", failed_in_marks2)"
   ]
  }
 ],
 "metadata": {
  "kernelspec": {
   "display_name": "Python 3 (ipykernel)",
   "language": "python",
   "name": "python3"
  },
  "language_info": {
   "codemirror_mode": {
    "name": "ipython",
    "version": 3
   },
   "file_extension": ".py",
   "mimetype": "text/x-python",
   "name": "python",
   "nbconvert_exporter": "python",
   "pygments_lexer": "ipython3",
   "version": "3.11.7"
  }
 },
 "nbformat": 4,
 "nbformat_minor": 5
}
